{
  "nbformat": 4,
  "nbformat_minor": 0,
  "metadata": {
    "colab": {
      "provenance": [],
      "gpuType": "T4"
    },
    "kernelspec": {
      "name": "python3",
      "display_name": "Python 3"
    },
    "language_info": {
      "name": "python"
    },
    "accelerator": "GPU"
  },
  "cells": [
    {
      "cell_type": "code",
      "execution_count": null,
      "metadata": {
        "colab": {
          "base_uri": "https://localhost:8080/"
        },
        "id": "3dRXhHx3sEbm",
        "outputId": "f5f28633-2a01-4b84-e639-07520180ab57"
      },
      "outputs": [
        {
          "output_type": "stream",
          "name": "stdout",
          "text": [
            "Collecting git+https://github.com/afnan47/cuda.git\n",
            "  Cloning https://github.com/afnan47/cuda.git to /tmp/pip-req-build-nkywa1y3\n",
            "  Running command git clone --filter=blob:none --quiet https://github.com/afnan47/cuda.git /tmp/pip-req-build-nkywa1y3\n",
            "  Resolved https://github.com/afnan47/cuda.git to commit aac710a35f52bb78ab34d2e52517237941399eff\n",
            "  Preparing metadata (setup.py) ... \u001b[?25l\u001b[?25hdone\n",
            "Building wheels for collected packages: NVCCPlugin\n",
            "  Building wheel for NVCCPlugin (setup.py) ... \u001b[?25l\u001b[?25hdone\n",
            "  Created wheel for NVCCPlugin: filename=NVCCPlugin-0.0.2-py3-none-any.whl size=4289 sha256=d9ea33656475bf124bdbaccb0f9a3fb842344cfd276ee797a0306402b9b0ed04\n",
            "  Stored in directory: /tmp/pip-ephem-wheel-cache-_zu52z5t/wheels/aa/f3/44/e10c1d226ec561d971fcd4b0463f6bff08602afa928a3e7bc7\n",
            "Successfully built NVCCPlugin\n",
            "Installing collected packages: NVCCPlugin\n",
            "Successfully installed NVCCPlugin-0.0.2\n"
          ]
        }
      ],
      "source": [
        "!pip install git+https://github.com/afnan47/cuda.git"
      ]
    },
    {
      "cell_type": "code",
      "source": [
        "%load_ext nvcc_plugin"
      ],
      "metadata": {
        "colab": {
          "base_uri": "https://localhost:8080/"
        },
        "id": "AXAOSDhptLLG",
        "outputId": "7e2a32fb-db3b-427a-e0a5-a097748d96c6"
      },
      "execution_count": null,
      "outputs": [
        {
          "output_type": "stream",
          "name": "stdout",
          "text": [
            "created output directory at /content/src\n",
            "Out bin /content/result.out\n"
          ]
        }
      ]
    },
    {
      "cell_type": "code",
      "source": [
        "%%cu\n",
        "#include <iostream>\n",
        "int main(){\n",
        "  std::cout << \"Hello World\\n\";\n",
        "  return 0;\n",
        "}"
      ],
      "metadata": {
        "colab": {
          "base_uri": "https://localhost:8080/"
        },
        "id": "eAZXG3vTtPf6",
        "outputId": "f7371ddd-18b8-4470-b7a1-700c8e5dd33f"
      },
      "execution_count": null,
      "outputs": [
        {
          "output_type": "stream",
          "name": "stdout",
          "text": [
            "Hello World\n",
            "\n"
          ]
        }
      ]
    },
    {
      "cell_type": "code",
      "source": [
        "%%writefile ass1.cu\n",
        "\n",
        "#include <iostream>\n",
        "#include <vector>\n",
        "#include <queue>\n",
        "#include <omp.h>\n",
        "\n",
        "using namespace std;\n",
        "\n",
        "class Graph {\n",
        "    int V; // Number of vertices\n",
        "    vector<vector<int>> adj; // Adjacency list\n",
        "public:\n",
        "    Graph(int V) : V(V), adj(V) {}\n",
        "    // Add an edge to the graph\n",
        "    void addEdge(int v, int w) {\n",
        "        adj[v].push_back(w);\n",
        "    }\n",
        "    // Parallel Depth-First Search\n",
        "    void parallelDFS(int startVertex) {\n",
        "        vector<bool> visited(V, false);\n",
        "        double startTime = omp_get_wtime();\n",
        "        parallelDFSUtil(startVertex, visited);\n",
        "        double endTime = omp_get_wtime();\n",
        "        cout << \"\\nExecution Time (DFS): \" << endTime - startTime << \" seconds\" << endl;\n",
        "    }\n",
        "    // Parallel DFS utility function\n",
        "    void parallelDFSUtil(int v, vector<bool>& visited) {\n",
        "        visited[v] = true;\n",
        "        cout << v << \" \";\n",
        "        #pragma omp parallel for\n",
        "        for (int i = 0; i < adj[v].size(); ++i) {\n",
        "            int n = adj[v][i];\n",
        "            if (!visited[n])\n",
        "                parallelDFSUtil(n, visited);\n",
        "        }\n",
        "    }\n",
        "    // Parallel Breadth-First Search\n",
        "    void parallelBFS(int startVertex) {\n",
        "        vector<bool> visited(V, false);\n",
        "        queue<int> q;\n",
        "        double startTime = omp_get_wtime();\n",
        "        visited[startVertex] = true;\n",
        "        q.push(startVertex);\n",
        "        while (!q.empty()) {\n",
        "            int v = q.front();\n",
        "            q.pop();\n",
        "            cout << v << \" \";\n",
        "            #pragma omp parallel for\n",
        "            for (int i = 0; i < adj[v].size(); ++i) {\n",
        "                int n = adj[v][i];\n",
        "                if (!visited[n]) {\n",
        "                    visited[n] = true;\n",
        "                    q.push(n);\n",
        "                }\n",
        "            }\n",
        "        }\n",
        "        double endTime = omp_get_wtime();\n",
        "        cout << \"\\nExecution Time (BFS): \" << endTime - startTime << \" seconds\" << endl;\n",
        "    }\n",
        "};\n",
        "\n",
        "int main() {\n",
        "    // Create a graph\n",
        "    Graph g(7);\n",
        "    g.addEdge(0, 1);\n",
        "    g.addEdge(0, 2);\n",
        "    g.addEdge(1, 3);\n",
        "    g.addEdge(1, 4);\n",
        "    g.addEdge(2, 5);\n",
        "    g.addEdge(2, 6);\n",
        "    cout << \"Depth-First Search (DFS): \";\n",
        "    g.parallelDFS(0);\n",
        "    cout << endl;\n",
        "    cout << \"Breadth-First Search (BFS): \";\n",
        "    g.parallelBFS(0);\n",
        "    cout << endl;\n",
        "    return 0;\n",
        "}\n",
        "\n",
        "\n"
      ],
      "metadata": {
        "colab": {
          "base_uri": "https://localhost:8080/"
        },
        "id": "rOkh7L3NR-yX",
        "outputId": "bfbd263c-e929-41f7-960a-cd623acbdc16"
      },
      "execution_count": null,
      "outputs": [
        {
          "output_type": "stream",
          "name": "stdout",
          "text": [
            "Writing ass1.cu\n"
          ]
        }
      ]
    },
    {
      "cell_type": "code",
      "source": [
        "!nvcc -o ass1 ass1.cu -Xcompiler -fopenmp\n",
        "!./ass1\n"
      ],
      "metadata": {
        "colab": {
          "base_uri": "https://localhost:8080/"
        },
        "id": "cJoJlasrSrJT",
        "outputId": "0345754b-eb97-4014-f187-f1a675fb42be"
      },
      "execution_count": null,
      "outputs": [
        {
          "output_type": "stream",
          "name": "stdout",
          "text": [
            "Depth-First Search (DFS): 0 2 1 3 4 5 6 \n",
            "Execution Time (DFS): 0.00201439 seconds\n",
            "\n",
            "Breadth-First Search (BFS): 0 1 2 4 3 6 5 \n",
            "Execution Time (BFS): 8.4151e-05 seconds\n",
            "\n"
          ]
        }
      ]
    },
    {
      "cell_type": "code",
      "source": [
        "# Assignment 2 parallel bubble sort\n",
        "\n",
        "%%writefile ass2parallelbubble.cu\n",
        "\n",
        "#include<iostream>\n",
        "#include<omp.h>\n",
        "using namespace std;\n",
        "void bubble(int array[], int n){\n",
        "for (int i = 0; i < n - 1; i++){\n",
        "for (int j = 0; j < n - i - 1; j++){\n",
        "if (array[j] > array[j + 1]) swap(array[j], array[j + 1]);\n",
        "}\n",
        "}\n",
        "}\n",
        "void pBubble(int array[], int n){\n",
        "//Sort odd indexed numbers\n",
        "for(int i = 0; i < n; ++i){\n",
        "#pragma omp for\n",
        "for (int j = 1; j < n; j += 2){\n",
        "if (array[j] < array[j-1])\n",
        "{\n",
        "swap(array[j], array[j - 1]);\n",
        "}\n",
        "}\n",
        "// Synchronize\n",
        "#pragma omp barrier\n",
        "//Sort even indexed numbers\n",
        "#pragma omp for\n",
        "for (int j = 2; j < n; j += 2){\n",
        "if (array[j] < array[j-1])\n",
        "{\n",
        "swap(array[j], array[j - 1]);\n",
        "}\n",
        "}\n",
        "}\n",
        "}\n",
        "void printArray(int arr[], int n){\n",
        "for(int i = 0; i < n; i++) cout << arr[i] << \" \";\n",
        "cout << \"\\n\";\n",
        "}\n",
        "int main(){\n",
        "// Set up variables\n",
        "int n = 10;\n",
        "int arr[n];\n",
        "int brr[n];\n",
        "double start_time, end_time;\n",
        "// Create an array with numbers starting from n to 1\n",
        "for(int i = 0, j = n; i < n; i++, j--) arr[i] = j;\n",
        "// Sequential time\n",
        "start_time = omp_get_wtime();\n",
        "bubble(arr, n);\n",
        "end_time = omp_get_wtime();\n",
        "cout << \"Sequential Bubble Sort took : \" << end_time - start_time << \" seconds.\\n\";\n",
        "printArray(arr, n);\n",
        "// Reset the array\n",
        "for(int i = 0, j = n; i < n; i++, j--) arr[i] = j;\n",
        "// Parallel time\n",
        "start_time = omp_get_wtime();\n",
        "pBubble(arr, n);\n",
        "end_time = omp_get_wtime();\n",
        "cout << \"Parallel Bubble Sort took : \" << end_time - start_time << \" seconds.\\n\";\n",
        "printArray(arr, n);\n",
        "}"
      ],
      "metadata": {
        "id": "h0l1thrbSsPt",
        "colab": {
          "base_uri": "https://localhost:8080/"
        },
        "outputId": "40a99b9f-438a-4c48-d662-6b55d4f79d24"
      },
      "execution_count": null,
      "outputs": [
        {
          "output_type": "stream",
          "name": "stdout",
          "text": [
            "Writing ass2parallelbubble.cu\n"
          ]
        }
      ]
    },
    {
      "cell_type": "code",
      "source": [
        "!nvcc -o ass2parallelbubble ass2parallelbubble.cu -Xcompiler -fopenmp\n",
        "!./ass2parallelbubble"
      ],
      "metadata": {
        "colab": {
          "base_uri": "https://localhost:8080/"
        },
        "id": "7Bgy6KxVSiVL",
        "outputId": "d555b755-b4fc-4158-fcbd-2ef35b4436c2"
      },
      "execution_count": null,
      "outputs": [
        {
          "output_type": "stream",
          "name": "stdout",
          "text": [
            "\u001b[01m\u001b[0m\u001b[01mass2parallelbubble.cu(42)\u001b[0m: \u001b[01;35mwarning\u001b[0m #177-D: variable \u001b[01m\"brr\"\u001b[0m was declared but never referenced\n",
            "  int brr[n];\n",
            "      ^\n",
            "\n",
            "\u001b[01;36m\u001b[0m\u001b[01;36mRemark\u001b[0m: The warnings can be suppressed with \"-diag-suppress <warning-number>\"\n",
            "\n",
            "Sequential Bubble Sort took : 9.63e-07 seconds.\n",
            "1 2 3 4 5 6 7 8 9 10 \n",
            "Parallel Bubble Sort took : 2.513e-06 seconds.\n",
            "1 2 3 4 5 6 7 8 9 10 \n"
          ]
        }
      ]
    },
    {
      "cell_type": "code",
      "source": [
        "%%writefile ass2parallelmergesort.cu\n",
        "\n",
        "#include <iostream>\n",
        "#include <omp.h>\n",
        "using namespace std;\n",
        "\n",
        "void merge(int arr[], int low, int mid, int high) {\n",
        "    // Create arrays of left and right partitions\n",
        "    int n1 = mid - low + 1;\n",
        "    int n2 = high - mid;\n",
        "    int left[n1];\n",
        "    int right[n2];\n",
        "\n",
        "    // Copy all left elements\n",
        "    for (int i = 0; i < n1; i++)\n",
        "        left[i] = arr[low + i];\n",
        "\n",
        "    // Copy all right elements\n",
        "    for (int j = 0; j < n2; j++)\n",
        "        right[j] = arr[mid + 1 + j];\n",
        "\n",
        "    // Compare and place elements\n",
        "    int i = 0, j = 0, k = low;\n",
        "    while (i < n1 && j < n2) {\n",
        "        if (left[i] <= right[j]) {\n",
        "            arr[k] = left[i];\n",
        "            i++;\n",
        "        } else {\n",
        "            arr[k] = right[j];\n",
        "            j++;\n",
        "        }\n",
        "        k++;\n",
        "    }\n",
        "\n",
        "    // If any elements are left out\n",
        "    while (i < n1) {\n",
        "        arr[k] = left[i];\n",
        "        i++;\n",
        "        k++;\n",
        "    }\n",
        "    while (j < n2) {\n",
        "        arr[k] = right[j];\n",
        "        j++;\n",
        "        k++;\n",
        "    }\n",
        "}\n",
        "\n",
        "void parallelMergeSort(int arr[], int low, int high) {\n",
        "    if (low < high) {\n",
        "        int mid = (low + high) / 2;\n",
        "#pragma omp parallel sections\n",
        "        {\n",
        "#pragma omp section\n",
        "            {\n",
        "                parallelMergeSort(arr, low, mid);\n",
        "            }\n",
        "#pragma omp section\n",
        "            {\n",
        "                parallelMergeSort(arr, mid + 1, high);\n",
        "            }\n",
        "        }\n",
        "        merge(arr, low, mid, high);\n",
        "    }\n",
        "}\n",
        "\n",
        "void mergeSort(int arr[], int low, int high) {\n",
        "    if (low < high) {\n",
        "        int mid = (low + high) / 2;\n",
        "        mergeSort(arr, low, mid);\n",
        "        mergeSort(arr, mid + 1, high);\n",
        "        merge(arr, low, mid, high);\n",
        "    }\n",
        "}\n",
        "\n",
        "int main() {\n",
        "    int n = 1000;\n",
        "    int arr[n];\n",
        "    double start_time, end_time;\n",
        "\n",
        "    // Create an array with numbers starting from n to 1.\n",
        "    for (int i = 0, j = n; i < n; i++, j--)\n",
        "        arr[i] = j;\n",
        "\n",
        "    // Measure Sequential Time\n",
        "    start_time = omp_get_wtime();\n",
        "    mergeSort(arr, 0, n - 1);\n",
        "    end_time = omp_get_wtime();\n",
        "    cout << \"Time taken by sequential algorithm: \" << end_time - start_time << \" seconds\\n\";\n",
        "\n",
        "    // Reset the array\n",
        "    for (int i = 0, j = n; i < n; i++, j--)\n",
        "        arr[i] = j;\n",
        "\n",
        "    // Measure Parallel time\n",
        "    start_time = omp_get_wtime();\n",
        "    parallelMergeSort(arr, 0, n - 1);\n",
        "    end_time = omp_get_wtime();\n",
        "    cout << \"Time taken by parallel algorithm: \" << end_time - start_time << \" seconds\";\n",
        "\n",
        "    return 0;\n",
        "}"
      ],
      "metadata": {
        "colab": {
          "base_uri": "https://localhost:8080/"
        },
        "id": "2qWy_AcoSno1",
        "outputId": "18b697c3-29c9-4ae9-e4a3-1230b3779e81"
      },
      "execution_count": null,
      "outputs": [
        {
          "output_type": "stream",
          "name": "stdout",
          "text": [
            "Writing ass2parallelmergesort.cu\n"
          ]
        }
      ]
    },
    {
      "cell_type": "code",
      "source": [
        "!nvcc -o ass2parallelmergesort ass2parallelmergesort.cu -Xcompiler -fopenmp\n",
        "!./ass2parallelmergesort"
      ],
      "metadata": {
        "colab": {
          "base_uri": "https://localhost:8080/"
        },
        "id": "hKmASWieSzHO",
        "outputId": "aa4469e9-3795-4792-9f9d-85deb8aa21f0"
      },
      "execution_count": null,
      "outputs": [
        {
          "output_type": "stream",
          "name": "stdout",
          "text": [
            "Time taken by sequential algorithm: 0.000125365 seconds\n",
            "Time taken by parallel algorithm: 0.00284824 seconds"
          ]
        }
      ]
    },
    {
      "cell_type": "code",
      "source": [
        "%%writefile ass3.cu\n",
        "\n",
        "#include <iostream>\n",
        "\n",
        "__global__ void minKernel(int *arr, int *minval, int n) {\n",
        "    int tid = threadIdx.x + blockIdx.x * blockDim.x;\n",
        "    if (tid < n) atomicMin(minval, arr[tid]);\n",
        "}\n",
        "\n",
        "__global__ void maxKernel(int *arr, int *maxval, int n) {\n",
        "    int tid = threadIdx.x + blockIdx.x * blockDim.x;\n",
        "    if (tid < n) atomicMax(maxval, arr[tid]);\n",
        "}\n",
        "\n",
        "__global__ void sumKernel(int *arr, int *sum, int n) {\n",
        "    int tid = threadIdx.x + blockIdx.x * blockDim.x;\n",
        "    if (tid < n) atomicAdd(sum, arr[tid]);\n",
        "}\n",
        "\n",
        "int minval(int arr[], int n) {\n",
        "    int *d_arr, *d_minval;\n",
        "    cudaMalloc(&d_arr, n * sizeof(int));\n",
        "    cudaMalloc(&d_minval, sizeof(int));\n",
        "    cudaMemcpy(d_arr, arr, n * sizeof(int), cudaMemcpyHostToDevice);\n",
        "    cudaMemcpy(d_minval, &arr[0], sizeof(int), cudaMemcpyHostToDevice);\n",
        "\n",
        "    minKernel<<<(n + 255) / 256, 256>>>(d_arr, d_minval, n);\n",
        "\n",
        "    int minval;\n",
        "    cudaMemcpy(&minval, d_minval, sizeof(int), cudaMemcpyDeviceToHost);\n",
        "\n",
        "    cudaFree(d_arr);\n",
        "    cudaFree(d_minval);\n",
        "\n",
        "    return minval;\n",
        "}\n",
        "\n",
        "int maxval(int arr[], int n) {\n",
        "    int *d_arr, *d_maxval;\n",
        "    cudaMalloc(&d_arr, n * sizeof(int));\n",
        "    cudaMalloc(&d_maxval, sizeof(int));\n",
        "    cudaMemcpy(d_arr, arr, n * sizeof(int), cudaMemcpyHostToDevice);\n",
        "    cudaMemcpy(d_maxval, &arr[0], sizeof(int), cudaMemcpyHostToDevice);\n",
        "\n",
        "    maxKernel<<<(n + 255) / 256, 256>>>(d_arr, d_maxval, n);\n",
        "\n",
        "    int maxval;\n",
        "    cudaMemcpy(&maxval, d_maxval, sizeof(int), cudaMemcpyDeviceToHost);\n",
        "\n",
        "    cudaFree(d_arr);\n",
        "    cudaFree(d_maxval);\n",
        "\n",
        "    return maxval;\n",
        "}\n",
        "\n",
        "int sum(int arr[], int n) {\n",
        "    int *d_arr, *d_sum;\n",
        "    cudaMalloc(&d_arr, n * sizeof(int));\n",
        "    cudaMalloc(&d_sum, sizeof(int));\n",
        "    cudaMemcpy(d_arr, arr, n * sizeof(int), cudaMemcpyHostToDevice);\n",
        "    cudaMemcpy(d_sum, &arr[0], sizeof(int), cudaMemcpyHostToDevice);\n",
        "\n",
        "    sumKernel<<<(n + 255) / 256, 256>>>(d_arr, d_sum, n);\n",
        "\n",
        "    int sum;\n",
        "    cudaMemcpy(&sum, d_sum, sizeof(int), cudaMemcpyDeviceToHost);\n",
        "\n",
        "    cudaFree(d_arr);\n",
        "    cudaFree(d_sum);\n",
        "\n",
        "    return sum;\n",
        "}\n",
        "\n",
        "int average(int arr[], int n) {\n",
        "    return (double)sum(arr, n) / n;\n",
        "}\n",
        "\n",
        "int main() {\n",
        "    int n = 5;\n",
        "    int arr[] = {1, 2, 3, 4, 5};\n",
        "\n",
        "    std::cout << \"The minimum value is: \" << minval(arr, n) << '\\n';\n",
        "    std::cout << \"The maximum value is: \" << maxval(arr, n) << '\\n';\n",
        "    std::cout << \"The summation is: \" << sum(arr, n) << '\\n';\n",
        "    std::cout << \"The average is: \" << average(arr, n) << '\\n';\n",
        "\n",
        "    return 0;\n",
        "}\n"
      ],
      "metadata": {
        "colab": {
          "base_uri": "https://localhost:8080/"
        },
        "id": "jJdJtwrYS3Ss",
        "outputId": "36872175-bdf7-464a-9b68-f2a0d55581e6"
      },
      "execution_count": null,
      "outputs": [
        {
          "output_type": "stream",
          "name": "stdout",
          "text": [
            "Overwriting ass3.cu\n"
          ]
        }
      ]
    },
    {
      "cell_type": "code",
      "source": [
        "!nvcc -o ass3 ass3.cu -Xcompiler -fopenmp\n",
        "!./ass3"
      ],
      "metadata": {
        "colab": {
          "base_uri": "https://localhost:8080/"
        },
        "id": "h3OvQaSMTklL",
        "outputId": "cdec27ae-67bd-4fc8-c230-62e75f10c2cf"
      },
      "execution_count": null,
      "outputs": [
        {
          "output_type": "stream",
          "name": "stdout",
          "text": [
            "The minimum value is: 1\n",
            "The maximum value is: 5\n",
            "The summation is: 16\n",
            "The average is: 3\n"
          ]
        }
      ]
    },
    {
      "cell_type": "code",
      "source": [
        "# ass4 addition of two large vector\n",
        "%%writefile ass4twolargevector.cu\n",
        "\n",
        "\n",
        "#include <iostream>\n",
        "using namespace std;\n",
        "\n",
        "__global__ void add(int* A, int* B, int* C, int size) {\n",
        "    int tid = blockIdx.x * blockDim.x + threadIdx.x;\n",
        "    if (tid < size) {\n",
        "        C[tid] = A[tid] + B[tid];\n",
        "    }\n",
        "}\n",
        "\n",
        "void initialize(int* vector, int size) {\n",
        "    for (int i = 0; i < size; i++) {\n",
        "        vector[i] = rand() % 10;\n",
        "    }\n",
        "}\n",
        "\n",
        "void print(int* vector, int size) {\n",
        "    for (int i = 0; i < size; i++) {\n",
        "        cout << vector[i] << \" \";\n",
        "    }\n",
        "    cout << endl;\n",
        "}\n",
        "\n",
        "int main() {\n",
        "    int N = 4;\n",
        "    int* A, * B, * C;\n",
        "    int vectorSize = N;\n",
        "    size_t vectorBytes = vectorSize * sizeof(int);\n",
        "\n",
        "    A = new int[vectorSize];\n",
        "    B = new int[vectorSize];\n",
        "    C = new int[vectorSize];\n",
        "\n",
        "    initialize(A, vectorSize);\n",
        "    initialize(B, vectorSize);\n",
        "\n",
        "    cout << \"Vector A: \";\n",
        "    print(A, N);\n",
        "    cout << \"Vector B: \";\n",
        "    print(B, N);\n",
        "\n",
        "    int* X, * Y, * Z;\n",
        "    cudaMalloc(&X, vectorBytes);\n",
        "    cudaMalloc(&Y, vectorBytes);\n",
        "    cudaMalloc(&Z, vectorBytes);\n",
        "\n",
        "    cudaMemcpy(X, A, vectorBytes, cudaMemcpyHostToDevice);\n",
        "    cudaMemcpy(Y, B, vectorBytes, cudaMemcpyHostToDevice);\n",
        "\n",
        "    int threadsPerBlock = 256;\n",
        "    int blocksPerGrid = (N + threadsPerBlock - 1) / threadsPerBlock;\n",
        "    add<<<blocksPerGrid, threadsPerBlock>>>(X, Y, Z, N);\n",
        "\n",
        "    cudaMemcpy(C, Z, vectorBytes, cudaMemcpyDeviceToHost);\n",
        "\n",
        "    cout << \"Addition: \";\n",
        "    print(C, N);\n",
        "\n",
        "    delete[] A;\n",
        "    delete[] B;\n",
        "    delete[] C;\n",
        "    cudaFree(X);\n",
        "    cudaFree(Y);\n",
        "    cudaFree(Z);\n",
        "\n",
        "    return 0;\n",
        "}\n"
      ],
      "metadata": {
        "colab": {
          "base_uri": "https://localhost:8080/"
        },
        "id": "Rt5PNOJYTtKL",
        "outputId": "e8540537-df49-4a2e-d281-f2fbe9d07b69"
      },
      "execution_count": null,
      "outputs": [
        {
          "output_type": "stream",
          "name": "stdout",
          "text": [
            "Overwriting ass4twolargevector.cu\n"
          ]
        }
      ]
    },
    {
      "cell_type": "code",
      "source": [
        "!nvcc -o ass4twolargevector ass4twolargevector.cu -Xcompiler -fopenmp\n",
        "!./ass4twolargevector"
      ],
      "metadata": {
        "colab": {
          "base_uri": "https://localhost:8080/"
        },
        "id": "zDv1X6kDVTGj",
        "outputId": "673da91f-7cd6-444b-c12d-c629808eccd8"
      },
      "execution_count": null,
      "outputs": [
        {
          "output_type": "stream",
          "name": "stdout",
          "text": [
            "Vector A: 3 6 7 5 \n",
            "Vector B: 3 5 6 2 \n",
            "Addition: 6 11 13 7 \n"
          ]
        }
      ]
    },
    {
      "cell_type": "code",
      "source": [
        "# ass 4 matrix multiplication\n",
        "%%writefile ass4matrixmultiplication.cu\n",
        "\n",
        "\n",
        "// matrix_multiplication.cu\n",
        "\n",
        "#include <iostream>\n",
        "using namespace std;\n",
        "\n",
        "__global__ void multiply(int* A, int* B, int* C, int size) {\n",
        "    int row = blockIdx.y * blockDim.y + threadIdx.y;\n",
        "    int col = blockIdx.x * blockDim.x + threadIdx.x;\n",
        "\n",
        "    if (row < size && col < size) {\n",
        "        int sum = 0;\n",
        "        for (int i = 0; i < size; i++) {\n",
        "            sum += A[row * size + i] * B[i * size + col];\n",
        "        }\n",
        "        C[row * size + col] = sum;\n",
        "    }\n",
        "}\n",
        "\n",
        "int main() {\n",
        "    const int N = 2;\n",
        "    const int matrixSize = N * N;\n",
        "    const size_t matrixBytes = matrixSize * sizeof(int);\n",
        "\n",
        "    int* A, * B, * C;\n",
        "    A = new int[matrixSize];\n",
        "    B = new int[matrixSize];\n",
        "    C = new int[matrixSize];\n",
        "\n",
        "    // Initialize matrices A and B\n",
        "    for (int i = 0; i < matrixSize; i++) {\n",
        "        A[i] = rand() % 10;\n",
        "        B[i] = rand() % 10;\n",
        "    }\n",
        "\n",
        "    // Print matrices A and B\n",
        "    cout << \"Matrix A: \\n\";\n",
        "    for (int i = 0; i < matrixSize; i++) {\n",
        "        cout << A[i] << \" \";\n",
        "        if ((i + 1) % N == 0) cout << endl;\n",
        "    }\n",
        "    cout << endl;\n",
        "\n",
        "    cout << \"Matrix B: \\n\";\n",
        "    for (int i = 0; i < matrixSize; i++) {\n",
        "        cout << B[i] << \" \";\n",
        "        if ((i + 1) % N == 0) cout << endl;\n",
        "    }\n",
        "    cout << endl;\n",
        "\n",
        "    int* d_A, * d_B, * d_C;\n",
        "    cudaMalloc(&d_A, matrixBytes);\n",
        "    cudaMalloc(&d_B, matrixBytes);\n",
        "    cudaMalloc(&d_C, matrixBytes);\n",
        "\n",
        "    cudaMemcpy(d_A, A, matrixBytes, cudaMemcpyHostToDevice);\n",
        "    cudaMemcpy(d_B, B, matrixBytes, cudaMemcpyHostToDevice);\n",
        "\n",
        "    dim3 threadsPerBlock(16, 16);\n",
        "    dim3 numBlocks((N + 15) / 16, (N + 15) / 16);\n",
        "\n",
        "    multiply<<<numBlocks, threadsPerBlock>>>(d_A, d_B, d_C, N);\n",
        "\n",
        "    cudaMemcpy(C, d_C, matrixBytes, cudaMemcpyDeviceToHost);\n",
        "\n",
        "    // Print result matrix C\n",
        "    cout << \"Result Matrix C: \\n\";\n",
        "    for (int i = 0; i < matrixSize; i++) {\n",
        "        cout << C[i] << \" \";\n",
        "        if ((i + 1) % N == 0) cout << endl;\n",
        "    }\n",
        "    cout << endl;\n",
        "\n",
        "    delete[] A;\n",
        "    delete[] B;\n",
        "    delete[] C;\n",
        "    cudaFree(d_A);\n",
        "    cudaFree(d_B);\n",
        "    cudaFree(d_C);\n",
        "\n",
        "    return 0;\n",
        "}\n"
      ],
      "metadata": {
        "colab": {
          "base_uri": "https://localhost:8080/"
        },
        "id": "XffbeICkVY12",
        "outputId": "7f90cdc3-2cf8-493e-e1b9-d97273e81bb6"
      },
      "execution_count": null,
      "outputs": [
        {
          "output_type": "stream",
          "name": "stdout",
          "text": [
            "Overwriting ass4matrixmultiplication.cu\n"
          ]
        }
      ]
    },
    {
      "cell_type": "code",
      "source": [
        "!nvcc -o ass4matrixmultiplication ass4matrixmultiplication.cu -Xcompiler -fopenmp\n",
        "!./ass4matrixmultiplication"
      ],
      "metadata": {
        "colab": {
          "base_uri": "https://localhost:8080/"
        },
        "id": "chahfyvSVwnk",
        "outputId": "acf2209c-426d-4b41-b319-b5c0397d91f6"
      },
      "execution_count": null,
      "outputs": [
        {
          "output_type": "stream",
          "name": "stdout",
          "text": [
            "Matrix A: \n",
            "3 7 \n",
            "3 6 \n",
            "\n",
            "Matrix B: \n",
            "6 5 \n",
            "5 2 \n",
            "\n",
            "Result Matrix C: \n",
            "53 29 \n",
            "48 27 \n",
            "\n"
          ]
        }
      ]
    }
  ]
}